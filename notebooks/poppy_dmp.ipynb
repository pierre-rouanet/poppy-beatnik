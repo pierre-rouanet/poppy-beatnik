{
 "metadata": {
  "name": "",
  "signature": "sha256:caf99068d3f2ee606f5983351600848ba8953188bf9c69f1522ccf501b18a07d"
 },
 "nbformat": 3,
 "nbformat_minor": 0,
 "worksheets": [
  {
   "cells": [
    {
     "cell_type": "code",
     "collapsed": false,
     "input": [
      "import json\n",
      "\n",
      "from pypot.vrep import from_vrep, close_all_connections\n",
      "\n",
      "close_all_connections()\n",
      "\n",
      "p = '../robot_configuration/poppy_config.json'\n",
      "\n",
      "with open(p) as cf:\n",
      "    config = json.load(cf)\n",
      "\n",
      "scene = '../scenes/poppy-sitting.ttt'\n",
      "poppy = from_vrep(config, '127.0.0.1', 19997, scene,\n",
      "                  tracked_objects=['left_hand_tracker', 'right_hand_tracker'])\n",
      "poppy.start_sync()"
     ],
     "language": "python",
     "metadata": {},
     "outputs": [],
     "prompt_number": 1
    },
    {
     "cell_type": "code",
     "collapsed": false,
     "input": [
      "import sys\n",
      "sys.path.append('/Users/pierrerouanet/dev/dmp-wolf/DMPs/')\n",
      "\n",
      "import time\n",
      "\n",
      "import cma \n",
      "\n",
      "from dmp_rhythmic import DMPs_rhythmic\n",
      "\n",
      "joints = [poppy.r_shoulder_x, poppy.r_shoulder_y]\n",
      "\n",
      "def play(pos, duration=2.):\n",
      "    t = linspace(0, duration, len(pos))\n",
      "    dt = diff(t)\n",
      "\n",
      "    for j, p in zip(joints, pos[0]):\n",
      "        j.goal_position = p\n",
      "    time.sleep(1)\n",
      "\n",
      "    end_pos = []\n",
      "\n",
      "    for tt, pp in zip(dt, pos):\n",
      "        for j, p in zip(joints, pp):\n",
      "            j.goal_position = p\n",
      "            \n",
      "        time.sleep(tt)\n",
      "        end_pos.append(poppy.right_hand_tracker.position)\n",
      "    return array(end_pos)"
     ],
     "language": "python",
     "metadata": {},
     "outputs": [],
     "prompt_number": 2
    },
    {
     "cell_type": "code",
     "collapsed": false,
     "input": [
      "%pylab\n",
      "\n",
      "dmps = len(joints)\n",
      "bfs = 10\n",
      "bfs_w_std = 25\n",
      "n_loops = 4\n",
      "\n",
      "mu = array([0] * dmps*(bfs)) # bfs basis function + the goal\n",
      "sigma = array([1.*eye(2)])\n",
      "es = cma.CMAEvolutionStrategy(mu, bfs_w_std, {'bounds': [-bfs_w_std*3, bfs_w_std*3]})"
     ],
     "language": "python",
     "metadata": {},
     "outputs": [
      {
       "output_type": "stream",
       "stream": "stdout",
       "text": [
        "Using matplotlib backend: MacOSX\n",
        "Populating the interactive namespace from numpy and matplotlib\n",
        "(6_w,12)-aCMA-ES (mu_w=3.7,w_1=40%) in dimension 20 (seed=294776, Thu Jul 24 12:04:41 2014)\n"
       ]
      }
     ],
     "prompt_number": 4
    },
    {
     "cell_type": "code",
     "collapsed": false,
     "input": [
      "m_goal = [-0.20, 0.90]\n",
      "m = 25*randn(dmps*bfs).reshape(dmps, bfs)\n",
      "\n",
      "dmp = DMPs_rhythmic(dmps=dmps, bfs=bfs, by=[2]*dmps, goal=m_goal, w=m)\n",
      "y_track, dy_track, ddy_track = dmp.rollout()  \n",
      "\n",
      "y_track *= 100\n",
      "\n",
      "s = play(y_track)\n",
      "\n",
      "plot(y_track)\n",
      "figure()\n",
      "plot(s)"
     ],
     "language": "python",
     "metadata": {},
     "outputs": [
      {
       "metadata": {},
       "output_type": "pyout",
       "prompt_number": 5,
       "text": [
        "[<matplotlib.lines.Line2D at 0x111a83490>,\n",
        " <matplotlib.lines.Line2D at 0x111a83710>,\n",
        " <matplotlib.lines.Line2D at 0x111a83950>]"
       ]
      }
     ],
     "prompt_number": 5
    },
    {
     "cell_type": "code",
     "collapsed": false,
     "input": [
      "beats = [200, 400]\n",
      "places = [[0.7, 0.7], [0.9, -0.1], [0.7, 0.7]]\n",
      "places = [array([-0.1, -0.2,  0.15]), # Legerment derriere\n",
      "          array([ 0.0, -0.3,  0.25]), # Ecarte devant\n",
      "          ]\n",
      "\n",
      "def cost(s, target):\n",
      "    dists = [linalg.norm(s[t, :] - p) for t, p in zip(beats, places)]\n",
      "    return sum(dists)"
     ],
     "language": "python",
     "metadata": {},
     "outputs": [],
     "prompt_number": 6
    },
    {
     "cell_type": "code",
     "collapsed": false,
     "input": [
      "cost_hist = []\n",
      "m_hist = []\n",
      "\n",
      "poppy.reset_simulation()\n",
      "\n",
      "while not es.stop():\n",
      "    solutions = es.ask()\n",
      "    costs = []\n",
      "    for m in solutions:\n",
      "        dmp = DMPs_rhythmic(dmps=dmps, bfs=bfs, goal=m_goal, by=[2]*dmps, w=array(m).reshape(dmps, bfs))\n",
      "        y_track, dy_track, ddy_track = dmp.rollout()    \n",
      "        \n",
      "        y_track *= 100\n",
      "        \n",
      "        s = play(y_track)\n",
      "        \n",
      "        c = cost(s, _)\n",
      "        costs.append(c)\n",
      "        cost_hist.append(c)\n",
      "        m_hist.append(m)\n",
      "    \n",
      "        clf()\n",
      "        plot(cost_hist)\n",
      "        draw()\n",
      "        \n",
      "    poppy.reset_simulation()\n",
      "    time.sleep(1)\n",
      "    \n",
      "    es.tell(solutions, costs)"
     ],
     "language": "python",
     "metadata": {},
     "outputs": [
      {
       "ename": "KeyboardInterrupt",
       "evalue": "",
       "output_type": "pyerr",
       "traceback": [
        "\u001b[0;31m---------------------------------------------------------------------------\u001b[0m\n\u001b[0;31mKeyboardInterrupt\u001b[0m                         Traceback (most recent call last)",
        "\u001b[0;32m<ipython-input-7-375c0ef0b9f0>\u001b[0m in \u001b[0;36m<module>\u001b[0;34m()\u001b[0m\n\u001b[1;32m     13\u001b[0m         \u001b[0my_track\u001b[0m \u001b[0;34m*=\u001b[0m \u001b[0;36m100\u001b[0m\u001b[0;34m\u001b[0m\u001b[0m\n\u001b[1;32m     14\u001b[0m \u001b[0;34m\u001b[0m\u001b[0m\n\u001b[0;32m---> 15\u001b[0;31m         \u001b[0ms\u001b[0m \u001b[0;34m=\u001b[0m \u001b[0mplay\u001b[0m\u001b[0;34m(\u001b[0m\u001b[0my_track\u001b[0m\u001b[0;34m)\u001b[0m\u001b[0;34m\u001b[0m\u001b[0m\n\u001b[0m\u001b[1;32m     16\u001b[0m \u001b[0;34m\u001b[0m\u001b[0m\n\u001b[1;32m     17\u001b[0m         \u001b[0mc\u001b[0m \u001b[0;34m=\u001b[0m \u001b[0mcost\u001b[0m\u001b[0;34m(\u001b[0m\u001b[0ms\u001b[0m\u001b[0;34m,\u001b[0m \u001b[0m_\u001b[0m\u001b[0;34m)\u001b[0m\u001b[0;34m\u001b[0m\u001b[0m\n",
        "\u001b[0;32m<ipython-input-2-a44811356181>\u001b[0m in \u001b[0;36mplay\u001b[0;34m(pos, duration)\u001b[0m\n\u001b[1;32m     24\u001b[0m             \u001b[0mj\u001b[0m\u001b[0;34m.\u001b[0m\u001b[0mgoal_position\u001b[0m \u001b[0;34m=\u001b[0m \u001b[0mp\u001b[0m\u001b[0;34m\u001b[0m\u001b[0m\n\u001b[1;32m     25\u001b[0m \u001b[0;34m\u001b[0m\u001b[0m\n\u001b[0;32m---> 26\u001b[0;31m         \u001b[0mtime\u001b[0m\u001b[0;34m.\u001b[0m\u001b[0msleep\u001b[0m\u001b[0;34m(\u001b[0m\u001b[0mtt\u001b[0m\u001b[0;34m)\u001b[0m\u001b[0;34m\u001b[0m\u001b[0m\n\u001b[0m\u001b[1;32m     27\u001b[0m         \u001b[0mend_pos\u001b[0m\u001b[0;34m.\u001b[0m\u001b[0mappend\u001b[0m\u001b[0;34m(\u001b[0m\u001b[0mpoppy\u001b[0m\u001b[0;34m.\u001b[0m\u001b[0mright_hand_tracker\u001b[0m\u001b[0;34m.\u001b[0m\u001b[0mposition\u001b[0m\u001b[0;34m)\u001b[0m\u001b[0;34m\u001b[0m\u001b[0m\n\u001b[1;32m     28\u001b[0m     \u001b[0;32mreturn\u001b[0m \u001b[0marray\u001b[0m\u001b[0;34m(\u001b[0m\u001b[0mend_pos\u001b[0m\u001b[0;34m)\u001b[0m\u001b[0;34m\u001b[0m\u001b[0m\n",
        "\u001b[0;31mKeyboardInterrupt\u001b[0m: "
       ]
      }
     ],
     "prompt_number": 7
    },
    {
     "cell_type": "code",
     "collapsed": false,
     "input": [
      "poppy.reset_simulation()\n",
      "\n",
      "best_m = m_hist[argmin(cost_hist)]\n",
      "\n",
      "dmp = DMPs_rhythmic(dmps=dmps, bfs=bfs, goal=m_goal, by=[2]*dmps, w=array(best_m).reshape(dmps, bfs))\n",
      "y_track, dy_track, ddy_track = dmp.rollout()\n",
      "y_track *= 100\n",
      "plot(y_track)\n",
      "s = play(y_track)\n",
      "plot(s)\n",
      "print s[200], s[400]\n",
      "print places\n",
      "print min(cost_hist)"
     ],
     "language": "python",
     "metadata": {},
     "outputs": [
      {
       "output_type": "stream",
       "stream": "stdout",
       "text": [
        "[-0.06209596 -0.22054759  0.15437949] [ 0.02804009 -0.32440221  0.19664893]\n",
        "[array([-0.1 , -0.2 ,  0.15]), array([ 0.  , -0.3 ,  0.25])]\n",
        "0.0866733271541\n"
       ]
      }
     ],
     "prompt_number": 12
    },
    {
     "cell_type": "code",
     "collapsed": false,
     "input": [],
     "language": "python",
     "metadata": {},
     "outputs": []
    }
   ],
   "metadata": {}
  }
 ]
}