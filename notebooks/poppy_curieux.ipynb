{
 "metadata": {
  "name": "",
  "signature": "sha256:af62ede0aa414f10015ebb15f7e1aff9a1bf61fb9d94abc18fa113192b25bb0a"
 },
 "nbformat": 3,
 "nbformat_minor": 0,
 "worksheets": [
  {
   "cells": [
    {
     "cell_type": "code",
     "collapsed": false,
     "input": [
      "import json\n",
      "\n",
      "from pypot.vrep import from_vrep, close_all_connections\n",
      "\n",
      "close_all_connections()\n",
      "\n",
      "p = '../robot_configuration/poppy_config.json'\n",
      "\n",
      "with open(p) as cf:\n",
      "    config = json.load(cf)\n",
      "\n",
      "scene = '../scenes/poppy-sitting.ttt'\n",
      "poppy = from_vrep(config, '127.0.0.1', 19997, scene,\n",
      "                  tracked_objects=['left_hand_tracker', 'right_hand_tracker'])\n",
      "poppy.start_sync()"
     ],
     "language": "python",
     "metadata": {},
     "outputs": [],
     "prompt_number": 1
    },
    {
     "cell_type": "code",
     "collapsed": false,
     "input": [
      "from explauto.environment.pypot import PypotEnvironment\n",
      "from explauto.environment import environments\n",
      "\n",
      "pypot_env_configs = {}"
     ],
     "language": "python",
     "metadata": {},
     "outputs": [],
     "prompt_number": 2
    },
    {
     "cell_type": "code",
     "collapsed": false,
     "input": [
      "class VrepTracker(object):\n",
      "    def get_position(self, obj_name):\n",
      "        return getattr(poppy, obj_name).position\n",
      "    \n",
      "vrep_tracker = VrepTracker()"
     ],
     "language": "python",
     "metadata": {},
     "outputs": [],
     "prompt_number": 3
    },
    {
     "cell_type": "code",
     "collapsed": false,
     "input": [
      "from numpy import deg2rad, array\n",
      "\n",
      "l_m_mins = deg2rad(array([0, 0, -90, -100]))\n",
      "l_m_maxs = deg2rad(array([120, 90, 90, 0]))\n",
      "\n",
      "l_s_mins = array([-0.25, -0.1, 0.1])\n",
      "l_s_maxs = array([0.5, 0.5, 0.7])\n",
      "\n",
      "env_cls = PypotEnvironment\n",
      "\n",
      "conf = {'pypot_robot': poppy,\n",
      "        'motors': poppy.l_arm,\n",
      "        'move_duration': 1.0,\n",
      "        'tracker': vrep_tracker,\n",
      "        'tracked_obj': 'left_hand_tracker',\n",
      "        'm_mins': l_m_mins,\n",
      "        'm_maxs': l_m_maxs,\n",
      "        's_mins': l_s_mins,\n",
      "        's_maxs': l_s_maxs}\n",
      "\n",
      "pypot_env_configs['l_arm'] = conf"
     ],
     "language": "python",
     "metadata": {},
     "outputs": [],
     "prompt_number": 4
    },
    {
     "cell_type": "code",
     "collapsed": false,
     "input": [
      "from numpy import deg2rad, array\n",
      "\n",
      "r_m_mins = deg2rad(array([0, -90, -90, -100]))\n",
      "r_m_maxs = deg2rad(array([120, 0, 90, 0]))\n",
      "\n",
      "r_s_mins = array([-0.25, -0.45, 0.1])\n",
      "r_s_maxs = array([0.5, 0.1, 0.8])\n",
      "\n",
      "env_cls = PypotEnvironment\n",
      "\n",
      "conf = {'pypot_robot': poppy,\n",
      "        'motors': poppy.r_arm,\n",
      "        'move_duration': 1.0,\n",
      "        'tracker': vrep_tracker,\n",
      "        'tracked_obj': 'right_hand_tracker',\n",
      "        'm_mins': r_m_mins,\n",
      "        'm_maxs': r_m_maxs,\n",
      "        's_mins': r_s_mins,\n",
      "        's_maxs': r_s_maxs}\n",
      "\n",
      "pypot_env_configs['r_arm'] = conf"
     ],
     "language": "python",
     "metadata": {},
     "outputs": [],
     "prompt_number": 5
    },
    {
     "cell_type": "code",
     "collapsed": false,
     "input": [
      "environments['poppy'] = (PypotEnvironment, pypot_env_configs, '')"
     ],
     "language": "python",
     "metadata": {},
     "outputs": [],
     "prompt_number": 6
    },
    {
     "cell_type": "code",
     "collapsed": false,
     "input": [
      "from explauto.experiment import Experiment, make_settings"
     ],
     "language": "python",
     "metadata": {},
     "outputs": [],
     "prompt_number": 7
    },
    {
     "cell_type": "code",
     "collapsed": false,
     "input": [
      "l_xp = make_settings(environment='poppy', \n",
      "                     babbling_mode='goal', \n",
      "                     interest_model='random',\n",
      "                     sensorimotor_model='nearest_neighbor',\n",
      "                     environment_config='l_arm')\n",
      "\n",
      "r_xp = make_settings(environment='poppy', \n",
      "                     babbling_mode='motor', \n",
      "                     interest_model='random',\n",
      "                     sensorimotor_model='nearest_neighbor',\n",
      "                     environment_config='r_arm')"
     ],
     "language": "python",
     "metadata": {},
     "outputs": [],
     "prompt_number": 8
    },
    {
     "cell_type": "markdown",
     "metadata": {},
     "source": [
      "As the sensory spaces are disjoint we will not use the same testcases for both experiments."
     ]
    },
    {
     "cell_type": "code",
     "collapsed": false,
     "input": [
      "left_xp = Experiment.from_settings(l_xp)\n",
      "right_xp = Experiment.from_settings(r_xp)"
     ],
     "language": "python",
     "metadata": {},
     "outputs": [],
     "prompt_number": 9
    },
    {
     "cell_type": "code",
     "collapsed": false,
     "input": [
      "import time\n",
      "\n",
      "for i in range(5):\n",
      "    left_xp.run(1, bg=True)\n",
      "    right_xp.run(1, bg=True)\n",
      "    \n",
      "    left_xp.wait()\n",
      "    right_xp.wait()\n",
      "    poppy.reset_simulation()\n",
      "    time.sleep(2)"
     ],
     "language": "python",
     "metadata": {},
     "outputs": [
      {
       "output_type": "stream",
       "stream": "stderr",
       "text": [
        "WARNING:explauto.agent.agent:Sensorimotor model not bootstrapped yet, or Agent still in bootstraping phase\n",
        "WARNING:explauto.agent.agent:Sensorimotor model not bootstrapped yet, or Agent still in bootstraping phase\n"
       ]
      }
     ],
     "prompt_number": 10
    },
    {
     "cell_type": "code",
     "collapsed": false,
     "input": [
      "left_xp.log.counts, right_xp.log.counts"
     ],
     "language": "python",
     "metadata": {},
     "outputs": [
      {
       "metadata": {},
       "output_type": "pyout",
       "prompt_number": 11,
       "text": [
        "(defaultdict(<type 'int'>, {'sensori': 5, 'inference': 5, 'motor': 5, 'choice': 5}),\n",
        " defaultdict(<type 'int'>, {'sensori': 5, 'inference': 5, 'motor': 5, 'choice': 5}))"
       ]
      }
     ],
     "prompt_number": 11
    },
    {
     "cell_type": "code",
     "collapsed": false,
     "input": [
      "%pylab\n",
      "from mpl_toolkits.mplot3d import Axes3D\n",
      "\n",
      "fig = figure()\n",
      "ax = fig.gca(projection='3d')\n",
      "\n",
      "left_xp.log.scatter_plot(ax, (('sensori', [0, 1, 2]), ), ms_limits=False, color='green')\n",
      "right_xp.log.scatter_plot(ax, (('sensori', [0, 1, 2]), ), ms_limits=False, color='red')"
     ],
     "language": "python",
     "metadata": {},
     "outputs": [
      {
       "output_type": "stream",
       "stream": "stdout",
       "text": [
        "Using matplotlib backend: MacOSX\n",
        "Populating the interactive namespace from numpy and matplotlib\n"
       ]
      }
     ],
     "prompt_number": 12
    },
    {
     "cell_type": "code",
     "collapsed": false,
     "input": [
      "print left_xp.log.logs['sensori'].max(axis=0) - left_xp.log.logs['sensori'].min(axis=0)\n",
      "print right_xp.log.logs['sensori'].max(axis=0) - right_xp.log.logs['sensori'].min(axis=0)"
     ],
     "language": "python",
     "metadata": {},
     "outputs": [
      {
       "output_type": "stream",
       "stream": "stdout",
       "text": [
        "[ 0.13321459  0.15392689  0.06663382]\n",
        "[ 0.25612134  0.20566022  0.20071898]\n"
       ]
      }
     ],
     "prompt_number": 13
    },
    {
     "cell_type": "code",
     "collapsed": false,
     "input": [],
     "language": "python",
     "metadata": {},
     "outputs": []
    }
   ],
   "metadata": {}
  }
 ]
}