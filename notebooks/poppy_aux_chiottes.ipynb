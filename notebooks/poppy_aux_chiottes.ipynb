{
 "metadata": {
  "name": "",
  "signature": "sha256:750338a89e6a35c5f5fb691f31b84333c28c6b1a6fe3ae9f71e6181ce9c0190b"
 },
 "nbformat": 3,
 "nbformat_minor": 0,
 "worksheets": [
  {
   "cells": [
    {
     "cell_type": "code",
     "collapsed": false,
     "input": [
      "import json\n",
      "\n",
      "from pypot.vrep import from_vrep, close_all_connections\n",
      "\n",
      "close_all_connections()\n",
      "\n",
      "p = '../robot_configuration/poppy_config.json'\n",
      "\n",
      "with open(p) as cf:\n",
      "    config = json.load(cf)\n",
      "\n",
      "#scene = '../scenes/poppy-sitting.ttt'\n",
      "scene = '../scenes/danstaface-davidguetta.ttt'\n",
      "poppy = from_vrep(config, '127.0.0.1', 19997, scene,\n",
      "                  tracked_objects=['left_hand_tracker', 'right_hand_tracker'])\n",
      "poppy.start_sync()"
     ],
     "language": "python",
     "metadata": {},
     "outputs": [],
     "prompt_number": 1
    },
    {
     "cell_type": "code",
     "collapsed": false,
     "input": [
      "import vrep\n",
      "vrep.simxReadCollision(0, 2010001, vrep.simx_opmode_streaming)[1]"
     ],
     "language": "python",
     "metadata": {},
     "outputs": [
      {
       "metadata": {},
       "output_type": "pyout",
       "prompt_number": 6,
       "text": [
        "False"
       ]
      }
     ],
     "prompt_number": 6
    },
    {
     "cell_type": "code",
     "collapsed": false,
     "input": [
      "import sys\n",
      "sys.path.append('/Users/pierrerouanet/dev/dmp-wolf/DMPs/')\n",
      "\n",
      "import time\n",
      "\n",
      "import cma \n",
      "\n",
      "from dmp_rhythmic import DMPs_rhythmic\n",
      "\n",
      "\n",
      "def play(pos, duration=2.):\n",
      "    t = linspace(0, duration, len(pos))\n",
      "    dt = diff(t)\n",
      "\n",
      "    for j, p in zip(joints, pos[0]):\n",
      "        j.goal_position = p\n",
      "    time.sleep(1)\n",
      "\n",
      "    touch = []\n",
      "\n",
      "    for tt, pp in zip(dt, pos):\n",
      "        for j, p in zip(joints, pp):\n",
      "            j.goal_position = p\n",
      "            \n",
      "        time.sleep(tt)\n",
      "        touch.append(vrep.simxReadCollision(0, 2010001, vrep.simx_opmode_streaming)[1])\n",
      "    return array(touch)"
     ],
     "language": "python",
     "metadata": {},
     "outputs": [],
     "prompt_number": 29
    },
    {
     "cell_type": "code",
     "collapsed": false,
     "input": [
      "beats = array([100, 300, 400])\n",
      "\n",
      "def cost(reached):\n",
      "    if len(reached) == 0:\n",
      "        return nan\n",
      "        \n",
      "    c = 0.0\n",
      "    \n",
      "    for g in reached:\n",
      "        d = abs(beats - g)\n",
      "        if len(d):\n",
      "            c += d.min()\n",
      "    \n",
      "    for g in beats:\n",
      "        d = abs(reached - g)\n",
      "        if len(d):\n",
      "            c += d.min()\n",
      "    \n",
      "    return c\n",
      "\n",
      "cost([150, 310])"
     ],
     "language": "python",
     "metadata": {},
     "outputs": [
      {
       "metadata": {},
       "output_type": "pyout",
       "prompt_number": 81,
       "text": [
        "210.0"
       ]
      }
     ],
     "prompt_number": 81
    },
    {
     "cell_type": "code",
     "collapsed": false,
     "input": [
      "%pylab inline\n",
      "\n",
      "import sys\n",
      "sys.path.append('/Users/pierrerouanet/dev/dmp-wolf/DMPs/')\n",
      "\n",
      "import time\n",
      "\n",
      "import cma \n",
      "\n",
      "from dmp_rhythmic import DMPs_rhythmic\n",
      "\n",
      "joints = poppy.l_arm\n",
      "\n",
      "\n",
      "dmps = len(joints)\n",
      "bfs = 10\n",
      "bfs_w_std = 1500\n",
      "n_loops = 4\n",
      "\n",
      "m_goal = array([130., 0, 0, 0])\n",
      "\n",
      "m = bfs_w_std*randn(dmps*bfs).reshape(dmps, bfs)\n",
      "\n",
      "dmp = DMPs_rhythmic(dmps=dmps, bfs=bfs, by=[2]*dmps, y0=m_goal, goal=m_goal, w=m)\n",
      "y_track, dy_track, ddy_track = dmp.rollout()  \n",
      "\n",
      "poppy.reset_simulation()\n",
      "\n",
      "a = play(y_track)\n",
      "reached_beats = find(diff(array(a, dtype=int)) > 0)\n",
      "cost(reached_beats)"
     ],
     "language": "python",
     "metadata": {},
     "outputs": [
      {
       "output_type": "stream",
       "stream": "stdout",
       "text": [
        "Populating the interactive namespace from numpy and matplotlib\n"
       ]
      },
      {
       "metadata": {},
       "output_type": "pyout",
       "prompt_number": 94,
       "text": [
        "378.0"
       ]
      }
     ],
     "prompt_number": 94
    },
    {
     "cell_type": "code",
     "collapsed": false,
     "input": [
      "\n",
      "mu = array([0] * dmps*(bfs)) # bfs basis function + the goal\n",
      "sigma = array([1.*eye(2)])\n",
      "es = cma.CMAEvolutionStrategy(mu, bfs_w_std, {'bounds': [-bfs_w_std*3, bfs_w_std*3]})\n",
      "\n",
      "cost_hist = []\n",
      "m_hist = []"
     ],
     "language": "python",
     "metadata": {},
     "outputs": [
      {
       "output_type": "stream",
       "stream": "stdout",
       "text": [
        "(7_w,15)-aCMA-ES (mu_w=4.5,w_1=34%) in dimension 40 (seed=241604, Thu Jul 24 17:24:11 2014)\n"
       ]
      }
     ],
     "prompt_number": 98
    },
    {
     "cell_type": "code",
     "collapsed": false,
     "input": [
      "%pylab\n",
      "\n",
      "poppy.reset_simulation()\n",
      "\n",
      "while not es.stop():\n",
      "    solutions = es.ask()\n",
      "    costs = []\n",
      "    for m in solutions:\n",
      "        dmp = DMPs_rhythmic(dmps=dmps, bfs=bfs, y0=m_goal, goal=m_goal, by=[2]*dmps, w=array(m).reshape(dmps, bfs))\n",
      "        y_track, dy_track, ddy_track = dmp.rollout()    \n",
      "        \n",
      "        a = play(y_track)\n",
      "        reached_beats = find(diff(array(a, dtype=int)) > 0)\n",
      "\n",
      "        c = cost(reached_beats)\n",
      "        costs.append(c)\n",
      "        cost_hist.append(c)\n",
      "        m_hist.append(m)\n",
      "    \n",
      "        clf()\n",
      "        subplot(211)\n",
      "        plot(cost_hist, 'o')\n",
      "        \n",
      "        subplot(212)\n",
      "        hist(beats, color='r')\n",
      "        if len(reached_beats):\n",
      "            hist(reached_beats, color='g')\n",
      "        xlim(0, 628)\n",
      "        \n",
      "        draw()\n",
      "        \n",
      "        poppy.reset_simulation()\n",
      "        time.sleep(1)\n",
      "    \n",
      "    es.tell(solutions, costs)"
     ],
     "language": "python",
     "metadata": {},
     "outputs": [
      {
       "output_type": "stream",
       "stream": "stdout",
       "text": [
        "Using matplotlib backend: MacOSX\n",
        "Populating the interactive namespace from numpy and matplotlib\n"
       ]
      },
      {
       "ename": "KeyboardInterrupt",
       "evalue": "",
       "output_type": "pyerr",
       "traceback": [
        "\u001b[0;31m---------------------------------------------------------------------------\u001b[0m\n\u001b[0;31mKeyboardInterrupt\u001b[0m                         Traceback (most recent call last)",
        "\u001b[0;32m<ipython-input-105-d16a1259c61e>\u001b[0m in \u001b[0;36m<module>\u001b[0;34m()\u001b[0m\n\u001b[1;32m     30\u001b[0m         \u001b[0mdraw\u001b[0m\u001b[0;34m(\u001b[0m\u001b[0;34m)\u001b[0m\u001b[0;34m\u001b[0m\u001b[0m\n\u001b[1;32m     31\u001b[0m \u001b[0;34m\u001b[0m\u001b[0m\n\u001b[0;32m---> 32\u001b[0;31m         \u001b[0mpoppy\u001b[0m\u001b[0;34m.\u001b[0m\u001b[0mreset_simulation\u001b[0m\u001b[0;34m(\u001b[0m\u001b[0;34m)\u001b[0m\u001b[0;34m\u001b[0m\u001b[0m\n\u001b[0m\u001b[1;32m     33\u001b[0m         \u001b[0mtime\u001b[0m\u001b[0;34m.\u001b[0m\u001b[0msleep\u001b[0m\u001b[0;34m(\u001b[0m\u001b[0;36m1\u001b[0m\u001b[0;34m)\u001b[0m\u001b[0;34m\u001b[0m\u001b[0m\n\u001b[1;32m     34\u001b[0m \u001b[0;34m\u001b[0m\u001b[0m\n",
        "\u001b[0;32m/Users/pierrerouanet/dev/pypot/pypot/vrep/__init__.pyc\u001b[0m in \u001b[0;36m<lambda>\u001b[0;34m()\u001b[0m\n\u001b[1;32m     78\u001b[0m         \u001b[0mrobot\u001b[0m\u001b[0;34m.\u001b[0m\u001b[0m_controllers\u001b[0m\u001b[0;34m[\u001b[0m\u001b[0;36m0\u001b[0m\u001b[0;34m]\u001b[0m\u001b[0;34m.\u001b[0m\u001b[0mio\u001b[0m\u001b[0;34m.\u001b[0m\u001b[0mrestart_simulation\u001b[0m\u001b[0;34m(\u001b[0m\u001b[0;34m)\u001b[0m\u001b[0;34m\u001b[0m\u001b[0m\n\u001b[1;32m     79\u001b[0m \u001b[0;34m\u001b[0m\u001b[0m\n\u001b[0;32m---> 80\u001b[0;31m     \u001b[0mrobot\u001b[0m\u001b[0;34m.\u001b[0m\u001b[0mreset_simulation\u001b[0m \u001b[0;34m=\u001b[0m \u001b[0;32mlambda\u001b[0m\u001b[0;34m:\u001b[0m \u001b[0mreset\u001b[0m\u001b[0;34m(\u001b[0m\u001b[0mrobot\u001b[0m\u001b[0;34m)\u001b[0m\u001b[0;34m\u001b[0m\u001b[0m\n\u001b[0m\u001b[1;32m     81\u001b[0m \u001b[0;34m\u001b[0m\u001b[0m\n\u001b[1;32m     82\u001b[0m     \u001b[0;32mreturn\u001b[0m \u001b[0mrobot\u001b[0m\u001b[0;34m\u001b[0m\u001b[0m\n",
        "\u001b[0;32m/Users/pierrerouanet/dev/pypot/pypot/vrep/__init__.pyc\u001b[0m in \u001b[0;36mreset\u001b[0;34m(robot)\u001b[0m\n\u001b[1;32m     76\u001b[0m             \u001b[0mm\u001b[0m\u001b[0;34m.\u001b[0m\u001b[0mgoal_position\u001b[0m \u001b[0;34m=\u001b[0m \u001b[0mp\u001b[0m\u001b[0;34m\u001b[0m\u001b[0m\n\u001b[1;32m     77\u001b[0m \u001b[0;34m\u001b[0m\u001b[0m\n\u001b[0;32m---> 78\u001b[0;31m         \u001b[0mrobot\u001b[0m\u001b[0;34m.\u001b[0m\u001b[0m_controllers\u001b[0m\u001b[0;34m[\u001b[0m\u001b[0;36m0\u001b[0m\u001b[0;34m]\u001b[0m\u001b[0;34m.\u001b[0m\u001b[0mio\u001b[0m\u001b[0;34m.\u001b[0m\u001b[0mrestart_simulation\u001b[0m\u001b[0;34m(\u001b[0m\u001b[0;34m)\u001b[0m\u001b[0;34m\u001b[0m\u001b[0m\n\u001b[0m\u001b[1;32m     79\u001b[0m \u001b[0;34m\u001b[0m\u001b[0m\n\u001b[1;32m     80\u001b[0m     \u001b[0mrobot\u001b[0m\u001b[0;34m.\u001b[0m\u001b[0mreset_simulation\u001b[0m \u001b[0;34m=\u001b[0m \u001b[0;32mlambda\u001b[0m\u001b[0;34m:\u001b[0m \u001b[0mreset\u001b[0m\u001b[0;34m(\u001b[0m\u001b[0mrobot\u001b[0m\u001b[0;34m)\u001b[0m\u001b[0;34m\u001b[0m\u001b[0m\n",
        "\u001b[0;32m/Users/pierrerouanet/dev/pypot/pypot/vrep/io.pyc\u001b[0m in \u001b[0;36mrestart_simulation\u001b[0;34m(self)\u001b[0m\n\u001b[1;32m    143\u001b[0m         \u001b[0;31m# We have to force a sleep\u001b[0m\u001b[0;34m\u001b[0m\u001b[0;34m\u001b[0m\u001b[0m\n\u001b[1;32m    144\u001b[0m         \u001b[0;31m# Otherwise the simulation is not restarted\u001b[0m\u001b[0;34m\u001b[0m\u001b[0;34m\u001b[0m\u001b[0m\n\u001b[0;32m--> 145\u001b[0;31m         \u001b[0mtime\u001b[0m\u001b[0;34m.\u001b[0m\u001b[0msleep\u001b[0m\u001b[0;34m(\u001b[0m\u001b[0;36m0.5\u001b[0m\u001b[0;34m)\u001b[0m\u001b[0;34m\u001b[0m\u001b[0m\n\u001b[0m\u001b[1;32m    146\u001b[0m         \u001b[0mself\u001b[0m\u001b[0;34m.\u001b[0m\u001b[0mstart_simulation\u001b[0m\u001b[0;34m(\u001b[0m\u001b[0;34m)\u001b[0m\u001b[0;34m\u001b[0m\u001b[0m\n\u001b[1;32m    147\u001b[0m \u001b[0;34m\u001b[0m\u001b[0m\n",
        "\u001b[0;31mKeyboardInterrupt\u001b[0m: "
       ]
      },
      {
       "metadata": {},
       "output_type": "display_data",
       "png": "[encoded data removed]",
       "text": [
        "<matplotlib.figure.Figure at 0x109f3ad10>"
       ]
      }
     ],
     "prompt_number": 105
    },
    {
     "cell_type": "code",
     "collapsed": false,
     "input": [
      "argmin(cost_hist)"
     ],
     "language": "python",
     "metadata": {},
     "outputs": [
      {
       "metadata": {},
       "output_type": "pyout",
       "prompt_number": 107,
       "text": [
        "2"
       ]
      }
     ],
     "prompt_number": 107
    },
    {
     "cell_type": "code",
     "collapsed": false,
     "input": [
      "nanargmin(array(cost_hist))"
     ],
     "language": "python",
     "metadata": {},
     "outputs": [
      {
       "metadata": {},
       "output_type": "pyout",
       "prompt_number": 111,
       "text": [
        "164"
       ]
      }
     ],
     "prompt_number": 111
    },
    {
     "cell_type": "code",
     "collapsed": false,
     "input": [
      "cost_hist[164]"
     ],
     "language": "python",
     "metadata": {},
     "outputs": [
      {
       "metadata": {},
       "output_type": "pyout",
       "prompt_number": 112,
       "text": [
        "92.0"
       ]
      }
     ],
     "prompt_number": 112
    },
    {
     "cell_type": "code",
     "collapsed": false,
     "input": [
      "cc = []\n",
      "cbeats =[]\n",
      "\n",
      "for _ in range(10):\n",
      "    poppy.reset_simulation()\n",
      "    time.sleep(1)\n",
      "    \n",
      "    m = m_hist[164]\n",
      "    dmp = DMPs_rhythmic(dmps=dmps, bfs=bfs, y0=m_goal, goal=m_goal, by=[2]*dmps, w=array(m).reshape(dmps, bfs))\n",
      "    y_track, dy_track, ddy_track = dmp.rollout()    \n",
      "\n",
      "    a = play(y_track)\n",
      "    reached_beats = find(diff(array(a, dtype=int)) > 0)\n",
      "\n",
      "    c = cost(reached_beats)\n",
      "    \n",
      "    cc.append(c)\n",
      "    cbeats.append(reached_beats)\n",
      "    "
     ],
     "language": "python",
     "metadata": {},
     "outputs": [],
     "prompt_number": 123
    },
    {
     "cell_type": "code",
     "collapsed": false,
     "input": [
      "mean(cc), std(cc)"
     ],
     "language": "python",
     "metadata": {},
     "outputs": [
      {
       "metadata": {},
       "output_type": "pyout",
       "prompt_number": 125,
       "text": [
        "(111.2, 16.054905792311583)"
       ]
      }
     ],
     "prompt_number": 125
    },
    {
     "cell_type": "code",
     "collapsed": false,
     "input": [
      "std(cbeats, axis=0)"
     ],
     "language": "python",
     "metadata": {},
     "outputs": [
      {
       "metadata": {},
       "output_type": "pyout",
       "prompt_number": 128,
       "text": [
        "array([ 3.37045991,  3.84837628,  5.97411081])"
       ]
      }
     ],
     "prompt_number": 128
    },
    {
     "cell_type": "code",
     "collapsed": false,
     "input": [],
     "language": "python",
     "metadata": {},
     "outputs": []
    }
   ],
   "metadata": {}
  }
 ]
}